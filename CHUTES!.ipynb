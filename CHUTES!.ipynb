{
 "cells": [
  {
   "cell_type": "code",
   "execution_count": 29,
   "metadata": {
    "collapsed": true
   },
   "outputs": [],
   "source": []
  },
  {
   "cell_type": "code",
   "execution_count": 3,
   "metadata": {
    "collapsed": true
   },
   "outputs": [],
   "source": [
    "\n",
    "import matplotlib.pyplot as plt \n",
    "import numpy as np\n",
    "import random\n",
    "import seaborn as sns\n",
    "import pandas as pd\n",
    "\n",
    "CHUTES_LADDERS = {1:38, 4:14, 9:31, 16:6, 21:42, 28:84, 36:44,\n",
    "                  47:26, 49:11, 51:67, 56:53, 62:19, 64:60,\n",
    "                  71:91, 80:100, 87:24, 93:73, 95:75, 98:78}\n",
    "\n",
    "def dist(number):   \n",
    "    \n",
    "    average = []\n",
    "    for i in range(1,number):\n",
    "    \n",
    "\n",
    "        last_random = 0\n",
    "        times = 0\n",
    "        roll_count = 0\n",
    "        while roll_count<100:\n",
    "            last_random  = random.randint(1,6)\n",
    "            roll_count += last_random\n",
    "            times +=1\n",
    "            if roll_count in CHUTES_LADDERS:\n",
    "                roll_count=CHUTES_LADDERS[roll_count]\n",
    "            while roll_count > 100:\n",
    "                times+=1\n",
    "                roll_count = roll_count-last_random\n",
    "        average.append(times)\n",
    "    print(average)\n",
    "    plt.hist(average)\n",
    "    plt.show()\n",
    "    print(sum)"
   ]
  },
  {
   "cell_type": "code",
   "execution_count": 4,
   "metadata": {},
   "outputs": [
    {
     "name": "stdout",
     "output_type": "stream",
     "text": [
      "[36, 54, 78, 67, 13, 37, 55, 84, 18, 29, 46, 57, 57, 15, 136, 24, 57, 19, 121, 14, 59, 27, 40, 58, 42, 36, 65, 37, 49, 23, 10, 19, 23, 14, 23, 73, 37, 54, 25, 13, 15, 28, 113, 23, 52, 18, 71, 8, 38, 33, 22, 91, 54, 24, 33, 27, 30, 45, 88, 18, 13, 48, 29, 28, 22, 73, 43, 40, 38, 37, 27, 68, 60, 16, 70, 85, 79, 24, 78, 68, 26, 10, 12, 25, 28, 24, 21, 129, 25, 19, 89, 35, 84, 20, 17, 17, 28, 21, 25]\n"
     ]
    },
    {
     "data": {
      "image/png": "[encoded data removed]",
      "text/plain": [
       "<matplotlib.figure.Figure at 0x111b5b2b0>"
      ]
     },
     "metadata": {},
     "output_type": "display_data"
    },
    {
     "name": "stdout",
     "output_type": "stream",
     "text": [
      "<built-in function sum>\n"
     ]
    }
   ],
   "source": [
    "dist(100)"
   ]
  },
  {
   "cell_type": "code",
   "execution_count": null,
   "metadata": {
    "collapsed": true
   },
   "outputs": [],
   "source": []
  }
 ],
 "metadata": {
  "kernelspec": {
   "display_name": "Python 3",
   "language": "python",
   "name": "python3"
  },
  "language_info": {
   "codemirror_mode": {
    "name": "ipython",
    "version": 3
   },
   "file_extension": ".py",
   "mimetype": "text/x-python",
   "name": "python",
   "nbconvert_exporter": "python",
   "pygments_lexer": "ipython3",
   "version": "3.6.3"
  }
 },
 "nbformat": 4,
 "nbformat_minor": 2
}
